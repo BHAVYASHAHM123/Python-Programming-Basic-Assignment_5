{
  "nbformat": 4,
  "nbformat_minor": 0,
  "metadata": {
    "colab": {
      "name": "Python Programming Basic Assignment_5.ipynb",
      "provenance": []
    },
    "kernelspec": {
      "name": "python3",
      "display_name": "Python 3"
    },
    "language_info": {
      "name": "python"
    }
  },
  "cells": [
    {
      "cell_type": "markdown",
      "source": [
        "Q1) Write a Python Program to Find LCM?"
      ],
      "metadata": {
        "id": "tWvhfkBJxQpT"
      }
    },
    {
      "cell_type": "code",
      "execution_count": 1,
      "metadata": {
        "colab": {
          "base_uri": "https://localhost:8080/"
        },
        "id": "t1586X3PxPkL",
        "outputId": "9828ffeb-a2cf-4e85-ebae-6b9ef659eb17"
      },
      "outputs": [
        {
          "output_type": "stream",
          "name": "stdout",
          "text": [
            "The L.C.M. is 216\n"
          ]
        }
      ],
      "source": [
        "\n",
        "def compute_lcm(x, y):\n",
        "\n",
        "   if x > y:\n",
        "       greater = x\n",
        "   else:\n",
        "       greater = y\n",
        "\n",
        "   while(True):\n",
        "       if((greater % x == 0) and (greater % y == 0)):\n",
        "           lcm = greater\n",
        "           break\n",
        "       greater += 1\n",
        "\n",
        "   return lcm\n",
        "\n",
        "num1 = 54\n",
        "num2 = 24\n",
        "\n",
        "print(\"The L.C.M. is\", compute_lcm(num1, num2))"
      ]
    },
    {
      "cell_type": "markdown",
      "source": [
        "Q2) Write a Python Program to Find HCF?"
      ],
      "metadata": {
        "id": "z91S5tNhymqo"
      }
    },
    {
      "cell_type": "code",
      "source": [
        "def compute_hcf(x, y):\n",
        "\n",
        "    if x > y:\n",
        "        smaller = y\n",
        "    else:\n",
        "        smaller = x\n",
        "    for i in range(1, smaller+1):\n",
        "        if((x % i == 0) and (y % i == 0)):\n",
        "            hcf = i \n",
        "    return hcf\n",
        "\n",
        "num1 = 54 \n",
        "num2 = 24\n",
        "\n",
        "print(\"The H.C.F. is\", compute_hcf(num1, num2))\n"
      ],
      "metadata": {
        "colab": {
          "base_uri": "https://localhost:8080/"
        },
        "id": "OXAq2Zc8xXeM",
        "outputId": "a38a0b49-fc7e-4384-f6e0-a5b6286e4624"
      },
      "execution_count": 2,
      "outputs": [
        {
          "output_type": "stream",
          "name": "stdout",
          "text": [
            "The H.C.F. is 6\n"
          ]
        }
      ]
    },
    {
      "cell_type": "markdown",
      "source": [
        "Q3) Write a Python Program to Convert Decimal to Binary, Octal and Hexadecimal?"
      ],
      "metadata": {
        "id": "fV7rrGevzx-C"
      }
    },
    {
      "cell_type": "code",
      "source": [
        "dec = 12\n",
        "\n",
        "print(\"The decimal value of\", dec, \"is:\")\n",
        "print(bin(dec), \"in binary.\")\n",
        "print(oct(dec), \"in octal.\")\n",
        "print(hex(dec), \"in hexadecimal.\")\n"
      ],
      "metadata": {
        "colab": {
          "base_uri": "https://localhost:8080/"
        },
        "id": "aRd1v5-bzBOW",
        "outputId": "41b1593b-9ef7-42d8-a003-e99696c79c63"
      },
      "execution_count": 4,
      "outputs": [
        {
          "output_type": "stream",
          "name": "stdout",
          "text": [
            "The decimal value of 12 is:\n",
            "0b1100 in binary.\n",
            "0o14 in octal.\n",
            "0xc in hexadecimal.\n"
          ]
        }
      ]
    },
    {
      "cell_type": "markdown",
      "source": [
        "Q4) Write a Python Program To Find ASCII value of a character?"
      ],
      "metadata": {
        "id": "Ox3JX5Ye0s0K"
      }
    },
    {
      "cell_type": "code",
      "source": [
        "c = 'b'\n",
        "print(\"The ASCII value of '\" + c + \"' is\", ord(c))\n"
      ],
      "metadata": {
        "colab": {
          "base_uri": "https://localhost:8080/"
        },
        "id": "MnGMTP5-0Phb",
        "outputId": "692108c1-14f4-4f32-a0d5-f298918d7519"
      },
      "execution_count": 5,
      "outputs": [
        {
          "output_type": "stream",
          "name": "stdout",
          "text": [
            "The ASCII value of 'b' is 98\n"
          ]
        }
      ]
    },
    {
      "cell_type": "markdown",
      "source": [
        "Q5) Write a Python Program to Make a Simple Calculator with 4 basic mathematical operations?"
      ],
      "metadata": {
        "id": "6bJg2flx04ZG"
      }
    },
    {
      "cell_type": "code",
      "source": [
        "def add(x, y):\n",
        "    return x + y\n",
        "\n",
        "def subtract(x, y):\n",
        "    return x - y\n",
        "\n",
        "def multiply(x, y):\n",
        "    return x * y\n",
        "\n",
        "def divide(x, y):\n",
        "    return x / y\n",
        "\n",
        "\n",
        "print(\"Select operation.\")\n",
        "print(\"1.Add\")\n",
        "print(\"2.Subtract\")\n",
        "print(\"3.Multiply\")\n",
        "print(\"4.Divide\")\n",
        "\n",
        "while True:\n",
        "    choice = input(\"Enter choice(1/2/3/4): \")\n",
        "\n",
        "    if choice in ('1', '2', '3', '4'):\n",
        "        num1 = float(input(\"Enter first number: \"))\n",
        "        num2 = float(input(\"Enter second number: \"))\n",
        "\n",
        "        if choice == '1':\n",
        "            print(num1, \"+\", num2, \"=\", add(num1, num2))\n",
        "\n",
        "        elif choice == '2':\n",
        "            print(num1, \"-\", num2, \"=\", subtract(num1, num2))\n",
        "\n",
        "        elif choice == '3':\n",
        "            print(num1, \"*\", num2, \"=\", multiply(num1, num2))\n",
        "\n",
        "        elif choice == '4':\n",
        "            print(num1, \"/\", num2, \"=\", divide(num1, num2))\n",
        "        \n",
        "        next_calculation = input(\"Let's do next calculation? (yes/no): \")\n",
        "        if next_calculation == \"no\":\n",
        "          break\n",
        "    \n",
        "    else:\n",
        "        print(\"Invalid Input\")"
      ],
      "metadata": {
        "colab": {
          "base_uri": "https://localhost:8080/"
        },
        "id": "woQ-Fo4w01C9",
        "outputId": "bd61d26f-67ac-487e-8559-3c7caa6f2011"
      },
      "execution_count": 6,
      "outputs": [
        {
          "name": "stdout",
          "output_type": "stream",
          "text": [
            "Select operation.\n",
            "1.Add\n",
            "2.Subtract\n",
            "3.Multiply\n",
            "4.Divide\n",
            "Enter choice(1/2/3/4): 2\n",
            "Enter first number: 50\n",
            "Enter second number: 20\n",
            "50.0 - 20.0 = 30.0\n",
            "Let's do next calculation? (yes/no): y\n",
            "Enter choice(1/2/3/4): 1\n",
            "Enter first number: 2\n",
            "Enter second number: 3\n",
            "2.0 + 3.0 = 5.0\n",
            "Let's do next calculation? (yes/no): n\n",
            "Enter choice(1/2/3/4): 23\n",
            "Invalid Input\n",
            "Enter choice(1/2/3/4): 3\n",
            "Enter first number: 23\n",
            "Enter second number: 3\n",
            "23.0 * 3.0 = 69.0\n",
            "Let's do next calculation? (yes/no): no\n"
          ]
        }
      ]
    },
    {
      "cell_type": "code",
      "source": [
        ""
      ],
      "metadata": {
        "id": "yzEn8HiU1IER"
      },
      "execution_count": null,
      "outputs": []
    }
  ]
}